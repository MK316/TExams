{
  "nbformat": 4,
  "nbformat_minor": 0,
  "metadata": {
    "colab": {
      "private_outputs": true,
      "provenance": [],
      "authorship_tag": "ABX9TyPV4SecaXg6qJrR3nzU3drG",
      "include_colab_link": true
    },
    "kernelspec": {
      "name": "python3",
      "display_name": "Python 3"
    },
    "language_info": {
      "name": "python"
    }
  },
  "cells": [
    {
      "cell_type": "markdown",
      "metadata": {
        "id": "view-in-github",
        "colab_type": "text"
      },
      "source": [
        "<a href=\"https://colab.research.google.com/github/MK316/TExams/blob/main/TExamsApp.ipynb\" target=\"_parent\"><img src=\"https://colab.research.google.com/assets/colab-badge.svg\" alt=\"Open In Colab\"/></a>"
      ]
    },
    {
      "cell_type": "markdown",
      "source": [
        "# Teacher Exam: searching with keywords and displaying question items"
      ],
      "metadata": {
        "id": "vdnsB89CP5iw"
      }
    },
    {
      "cell_type": "code",
      "execution_count": null,
      "metadata": {
        "id": "gUTfay64P4mY"
      },
      "outputs": [],
      "source": [
        "import pandas as pd\n",
        "from IPython.display import Image, display\n",
        "\n",
        "url = \"https://raw.githubusercontent.com/MK316/TExams/main/TExams.csv\"\n",
        "df = pd.read_csv(url, encoding='utf-8')\n",
        "df.tail()"
      ]
    },
    {
      "cell_type": "markdown",
      "source": [
        "## Sample"
      ],
      "metadata": {
        "id": "EqvqVd8gellQ"
      }
    },
    {
      "cell_type": "code",
      "source": [
        "from IPython.display import display, Image\n",
        "\n",
        "# Adjusted function to display an image by DataFrame index for URLs\n",
        "def display_image_by_url(df, index):\n",
        "    if index < len(df):\n",
        "        image_url = df.loc[index, 'LINK']  # Replace 'YourColumnNameHere' with the actual column name\n",
        "        display(Image(url=image_url))\n",
        "    else:\n",
        "        print(\"Index out of range.\")\n",
        "\n",
        "# Example usage\n",
        "# Ensure df is your DataFrame and it has a column with URLs pointing to the images\n",
        "# Replace 'YourColumnNameHere' with the actual column name containing the image URLs\n",
        "display_image_by_url(df, 0)\n"
      ],
      "metadata": {
        "id": "Rarmh5JBQIRl"
      },
      "execution_count": null,
      "outputs": []
    },
    {
      "cell_type": "markdown",
      "source": [
        "# Gradio [1]"
      ],
      "metadata": {
        "id": "YBpc3I85RZ_F"
      }
    },
    {
      "cell_type": "code",
      "source": [
        "%%capture\n",
        "!pip install gradio"
      ],
      "metadata": {
        "id": "3Rw4oto0RtwL"
      },
      "execution_count": null,
      "outputs": []
    },
    {
      "cell_type": "code",
      "source": [
        "#@markdown [1] Simple version\n",
        "\n",
        "import gradio as gr\n",
        "import pandas as pd\n",
        "# Sample DataFrame for demonstration purposes\n",
        "# Replace this with your actual DataFrame\n",
        "# data = {\n",
        "#     'Year': ['2024_01'],\n",
        "#     'ImageURL': ['https://github.com/MK316/TExams/raw/main/images/2024_01.png']  # Replace with your actual URL\n",
        "# }\n",
        "# df = pd.DataFrame(data)\n",
        "\n",
        "url = \"https://raw.githubusercontent.com/MK316/TExams/main/TExams.csv\"\n",
        "df = pd.read_csv(url, encoding='utf-8')\n",
        "\n",
        "# Function to return an HTML image tag with the image URL\n",
        "def get_image_html(year):\n",
        "    # Filter the DataFrame for the given year\n",
        "    match = df[df['YEAR'] == year]\n",
        "    if not match.empty:\n",
        "        # Get the first matching URL\n",
        "        image_url = match.iloc[0]['LINK']\n",
        "        # Return an HTML image tag with the URL\n",
        "        return f\"<img src='{image_url}' width='800'/>\"  # You can adjust the width as needed\n",
        "    else:\n",
        "        # Return a message if no match is found\n",
        "        return \"No image found for this year.\"\n",
        "\n",
        "# Set up the Gradio interface\n",
        "iface = gr.Interface(fn=get_image_html,\n",
        "                     inputs=gr.Textbox(placeholder=\"Enter Year like '2024_1, 2024_2a'\"),\n",
        "                     outputs='html',\n",
        "                     title=\"Image Display for a Given Year\",\n",
        "                     description=\"Type a year and submit to display the corresponding image.\")\n",
        "\n",
        "\n",
        "# Launch the app\n",
        "iface.launch()\n"
      ],
      "metadata": {
        "cellView": "form",
        "id": "wZYKj_dJUgl2"
      },
      "execution_count": null,
      "outputs": []
    },
    {
      "cell_type": "markdown",
      "source": [
        "# Gradio [2] Searching with keywords added"
      ],
      "metadata": {
        "id": "Rt39f9yCYJPr"
      }
    },
    {
      "cell_type": "code",
      "source": [
        "# Test\n",
        "import pandas as pd\n",
        "\n",
        "# Example DataFrame for demonstration purposes\n",
        "\n",
        "url = \"https://raw.githubusercontent.com/MK316/TExams/main/TExams.csv\"\n",
        "df = pd.read_csv(url, encoding='utf-8')\n",
        "\n",
        "# Function to search for YEARS by matching keywords\n",
        "def search_year_by_keyword(df, keyword):\n",
        "    # Create a mask for whether the keyword appears in the 'KEYWORDS' column\n",
        "    mask = df['KEYWORDS'].apply(lambda x: keyword.lower() in x.lower().split(','))\n",
        "    # Filter the DataFrame based on the mask and return the 'YEAR' column\n",
        "    return df[mask]['YEAR'].tolist()\n",
        "\n",
        "# Example usage:\n",
        "keyword_to_search = input('Type a keyword: ')  # Replace this with the user's input keyword\n",
        "matching_years = search_year_by_keyword(df, keyword_to_search)\n",
        "\n",
        "print(f\"Years matching the keyword '{keyword_to_search}': {matching_years}\")\n"
      ],
      "metadata": {
        "id": "1vfJtGl2avwk"
      },
      "execution_count": null,
      "outputs": []
    },
    {
      "cell_type": "markdown",
      "source": [
        "# Gradio"
      ],
      "metadata": {
        "id": "tyvdYE7obbda"
      }
    },
    {
      "cell_type": "code",
      "source": [
        "# Keyword searching test\n",
        "\n",
        "import gradio as gr\n",
        "import pandas as pd\n",
        "\n",
        "url = \"https://raw.githubusercontent.com/MK316/TExams/main/TExams.csv\"\n",
        "df = pd.read_csv(url, encoding='utf-8')\n",
        "\n",
        "# Function to search for years by matching keywords\n",
        "\n",
        "def search_years_by_keywords(keywords):\n",
        "    # Split the input keywords by commas and strip whitespace\n",
        "    keyword_list = [keyword.strip() for keyword in keywords.split(',')]\n",
        "    # Filter the DataFrame rows where any of the keywords matches\n",
        "    matches = df[df['KEYWORDS'].apply(lambda x: any(keyword in x.split(', ') for keyword in keyword_list))]\n",
        "    # Return the matched years as a list\n",
        "    return matches['YEAR'].tolist()\n",
        "\n",
        "# Create Gradio interface\n",
        "iface = gr.Interface(\n",
        "    fn=search_years_by_keywords,\n",
        "    inputs=gr.Textbox(placeholder=\"Enter keywords separated by commas\"),\n",
        "    outputs=gr.Text(label=\"Matching Years\"),\n",
        "    title=\"Search Years by Keywords\",\n",
        "    description=\"Type keywords to search for years. Separate keywords with commas.\"\n",
        ")\n",
        "\n",
        "# Launch the app with share=True to get a shareable link\n",
        "iface.launch(share=True)\n"
      ],
      "metadata": {
        "id": "iVsbhmPLbbIl"
      },
      "execution_count": null,
      "outputs": []
    },
    {
      "cell_type": "markdown",
      "source": [
        "# Combining the two applications"
      ],
      "metadata": {
        "id": "qNvO3iqOclQA"
      }
    },
    {
      "cell_type": "code",
      "source": [
        "import gradio as gr\n",
        "import pandas as pd\n",
        "\n",
        "# Load the DataFrame\n",
        "url = \"https://raw.githubusercontent.com/MK316/TExams/main/TExams.csv\"\n",
        "df = pd.read_csv(url, encoding='utf-8')\n",
        "\n",
        "# Function to search for years by matching keywords\n",
        "def search_years_by_keywords(keywords):\n",
        "    keyword_list = [keyword.strip() for keyword in keywords.split(',')]\n",
        "    matches = df[df['KEYWORDS'].apply(lambda x: any(keyword in x.split(', ') for keyword in keyword_list))]\n",
        "    return \", \".join(matches['YEAR'].tolist())  # Return a string of matched years\n",
        "\n",
        "# Function to return an HTML image tag with the image URL\n",
        "def get_image_html(year):\n",
        "    match = df[df['YEAR'] == year]\n",
        "    if not match.empty:\n",
        "        image_url = match.iloc[0]['LINK']\n",
        "        return f\"<img src='{image_url}' width='800'/>\"\n",
        "    else:\n",
        "        return \"No image found for this year.\"\n",
        "\n",
        "# Create Gradio Blocks interface\n",
        "with gr.Blocks() as app:\n",
        "    gr.Markdown(\"# Teacher Certificate Exam Helper\")\n",
        "    gr.Markdown(\"## ❄️ [1] Search Years by Keywords\")\n",
        "    keyword_input = gr.Textbox(label = \"Keyword\", placeholder=\"Enter keywords separated by commas\")\n",
        "    keyword_output = gr.Text(label=\"Matching Years\")\n",
        "    gr.Markdown(\"## ❄️ [2] Display Phonology Questions for a Given Year\")\n",
        "    year_input = gr.Textbox(label=\"Year information: e.g., Year_item_part(a,b)\", placeholder=\"Enter Year like '2024_01'\")\n",
        "    image_output = gr.HTML()\n",
        "\n",
        "    # Define actions\n",
        "    keyword_input.change(fn=search_years_by_keywords, inputs=keyword_input, outputs=keyword_output)\n",
        "    year_input.change(fn=get_image_html, inputs=year_input, outputs=image_output)\n",
        "\n",
        "# Launch the app with sharing options\n",
        "app.launch(share=True)\n"
      ],
      "metadata": {
        "id": "1sP5cOEIcnrE"
      },
      "execution_count": null,
      "outputs": []
    },
    {
      "cell_type": "markdown",
      "source": [
        "# Search by Year or Keywords"
      ],
      "metadata": {
        "id": "TyNSeVY0eFFo"
      }
    },
    {
      "cell_type": "code",
      "source": [
        "import gradio as gr\n",
        "import pandas as pd\n",
        "\n",
        "# Load the DataFrame\n",
        "url = \"https://raw.githubusercontent.com/MK316/TExams/main/TExams.csv\"\n",
        "df = pd.read_csv(url, encoding='utf-8')\n",
        "\n",
        "# Function to search years based on the selected mode\n",
        "def search_years(mode, query):\n",
        "    if mode == \"Search by YEAR\":\n",
        "        # Search by matching the first four characters of the 'YEAR' column\n",
        "        matches = df[df['YEAR'].str.startswith(query[:4])]\n",
        "        return \", \".join(matches['YEAR'].tolist())  # Return a string of matched years\n",
        "    elif mode == \"Search Years by Keywords\":\n",
        "        # Original keyword search logic\n",
        "        keyword_list = [keyword.strip() for keyword in query.split(',')]\n",
        "        matches = df[df['KEYWORDS'].apply(lambda x: any(keyword in x.split(', ') for keyword in keyword_list))]\n",
        "        return \", \".join(matches['YEAR'].tolist())  # Return a string of matched years\n",
        "    else:\n",
        "        return \"Invalid mode selected.\"\n",
        "\n",
        "# Function to return an HTML image tag with the image URL\n",
        "def get_image_html(year):\n",
        "    match = df[df['YEAR'] == year]\n",
        "    if not match.empty:\n",
        "        image_url = match.iloc[0]['LINK']\n",
        "        return f\"<img src='{image_url}' width='800'/>\"\n",
        "    else:\n",
        "        return \"No image found for this year.\"\n",
        "\n",
        "# Create Gradio Blocks interface\n",
        "with gr.Blocks() as app:\n",
        "    gr.Markdown(\"# Teacher Certificate Exam Helper\")\n",
        "\n",
        "    # Dropdown for selecting search mode\n",
        "    search_mode = gr.Dropdown(label=\"Select Search Mode\", choices=[\"Search by YEAR\", \"Search Years by Keywords\"])\n",
        "\n",
        "    gr.Markdown(\"## ❄️ [1] Search\")\n",
        "    search_input = gr.Textbox(label=\"Search Query\", placeholder=\"Enter year or keywords separated by commas\")\n",
        "    search_output = gr.Text(label=\"Results\")\n",
        "\n",
        "    gr.Markdown(\"## ❄️ [2] Display Phonology Questions for a Given Year\")\n",
        "    year_input = gr.Textbox(label=\"Year Information: e.g., Year_item_part(a,b)\", placeholder=\"Enter Year like '2024_01'\")\n",
        "    image_output = gr.HTML()\n",
        "\n",
        "    # Define actions\n",
        "    search_button = gr.Button(\"Search\")\n",
        "    search_button.click(fn=search_years, inputs=[search_mode, search_input], outputs=search_output)\n",
        "    year_input.change(fn=get_image_html, inputs=year_input, outputs=image_output)\n",
        "\n",
        "# Launch the app with sharing options\n",
        "app.launch(share=True)\n"
      ],
      "metadata": {
        "id": "Kjblke7feHcJ"
      },
      "execution_count": null,
      "outputs": []
    },
    {
      "cell_type": "markdown",
      "source": [
        "# Update: search by Year or by keyword"
      ],
      "metadata": {
        "id": "Ue2qGweClqpd"
      }
    },
    {
      "cell_type": "code",
      "source": [
        "import gradio as gr\n",
        "import pandas as pd\n",
        "\n",
        "# Load the DataFrame\n",
        "url = \"https://raw.githubusercontent.com/MK316/TExams/main/TExams.csv\"\n",
        "df = pd.read_csv(url, encoding='utf-8')\n",
        "\n",
        "# Function to search years based on the selected mode\n",
        "def search_years(search_by_year, search_by_keywords, query):\n",
        "    if search_by_year and not search_by_keywords:\n",
        "        # Search by matching the first four characters of the 'YEAR' column\n",
        "        matches = df[df['YEAR'].str.startswith(query[:4])]\n",
        "        if matches.empty:\n",
        "            return \"No results found for your query.\"\n",
        "        return \", \".join(matches['YEAR'].tolist())  # Return a string of matched years\n",
        "    elif search_by_keywords and not search_by_year:\n",
        "        # Original keyword search logic\n",
        "        keyword_list = [keyword.strip() for keyword in query.split(',')]\n",
        "        matches = df[df['KEYWORDS'].apply(lambda x: any(keyword in x for keyword in keyword_list))]\n",
        "        if matches.empty:\n",
        "            return \"No results found for your query.\"\n",
        "        return \", \".join(matches['YEAR'].tolist())  # Return a string of matched years\n",
        "    else:\n",
        "        return \"Please select exactly one search mode.\"\n",
        "\n",
        "# Function to return an HTML image tag with the image URL\n",
        "def get_image_html(year):\n",
        "    match = df[df['YEAR'] == year]\n",
        "    if not match.empty:\n",
        "        image_url = match.iloc[0]['LINK']\n",
        "        return f\"<img src='{image_url}' width='800'/>\"\n",
        "    else:\n",
        "        return \"No image found for this year.\"\n",
        "\n",
        "# Create Gradio Blocks interface\n",
        "with gr.Blocks() as app:\n",
        "    gr.Markdown(\"# Teacher Certificate Exam Searching Engine (upto 2024)\")\n",
        "\n",
        "    # Checkboxes for selecting search mode\n",
        "    search_by_year = gr.Checkbox(label=\"Search by YEAR\", value=False)\n",
        "    search_by_keywords = gr.Checkbox(label=\"Search Years by Keywords\", value=False)\n",
        "\n",
        "    gr.Markdown(\"## ❄️ [1] Search\")\n",
        "    with gr.Row():\n",
        "        search_input = gr.Textbox(label=\"Search Query (e.g., 2024 (by YEAR) or tapping (by Keywords))\", placeholder=\"Enter year or keywords separated by commas\")\n",
        "        search_button = gr.Button(\"Search\")\n",
        "    search_output = gr.Text(label=\"Results\")\n",
        "\n",
        "    gr.Markdown(\"## ❄️ [2] Display Phonology Questions for a Given Year\")\n",
        "    year_input = gr.Textbox(label=\"Year Information: e.g., Year_item_part(a,b)\", placeholder=\"Enter Year like '2024_01'\")\n",
        "    image_output = gr.HTML()\n",
        "\n",
        "    # Define actions\n",
        "    search_button.click(fn=search_years, inputs=[search_by_year, search_by_keywords, search_input], outputs=search_output)\n",
        "    year_input.change(fn=get_image_html, inputs=year_input, outputs=image_output)\n",
        "\n",
        "# Launch the app with sharing options\n",
        "app.launch(share=True)\n"
      ],
      "metadata": {
        "id": "AMaPGlAylu_Z"
      },
      "execution_count": null,
      "outputs": []
    },
    {
      "cell_type": "markdown",
      "source": [
        "# This is the final version to implement an application (Final version)"
      ],
      "metadata": {
        "id": "L5cacpn-uVgt"
      }
    },
    {
      "cell_type": "code",
      "source": [
        "!pip install gradio"
      ],
      "metadata": {
        "id": "ad3miScuV-H0"
      },
      "execution_count": null,
      "outputs": []
    },
    {
      "cell_type": "code",
      "source": [
        "import gradio as gr\n",
        "import pandas as pd\n",
        "\n",
        "# Load the DataFrame\n",
        "url = \"https://raw.githubusercontent.com/MK316/TExams/main/TExams.csv\"\n",
        "df = pd.read_csv(url, encoding='utf-8')\n",
        "\n",
        "# Function to search years based on the selected mode\n",
        "def search_years(search_by_year, search_by_keywords, query):\n",
        "    if search_by_year and not search_by_keywords:\n",
        "        # Search by matching the first four characters of the 'YEAR' column\n",
        "        matches = df[df['YEAR'].str.startswith(query[:4])]\n",
        "        if matches.empty:\n",
        "            return \"No results found for your query.\"\n",
        "        return \", \".join(matches['YEAR'].tolist())  # Return a string of matched years\n",
        "    elif search_by_keywords and not search_by_year:\n",
        "        # Original keyword search logic\n",
        "        keyword_list = [keyword.strip() for keyword in query.split(',')]\n",
        "        matches = df[df['KEYWORDS'].apply(lambda x: any(keyword in x for keyword in keyword_list))]\n",
        "        if matches.empty:\n",
        "            return \"No results found for your query.\"\n",
        "        return \", \".join(matches['YEAR'].tolist())  # Return a string of matched years\n",
        "    else:\n",
        "        return \"Please select exactly one search mode.\"\n",
        "\n",
        "# Function to return an HTML image tag with the image URL\n",
        "def get_image_html(year):\n",
        "    match = df[df['YEAR'] == year]\n",
        "    if not match.empty:\n",
        "        image_url = match.iloc[0]['LINK']\n",
        "        return f\"<img src='{image_url}' width='800'/>\"\n",
        "    else:\n",
        "        return \"No image found for this year.\"\n",
        "\n",
        "# Create Gradio Blocks interface\n",
        "with gr.Blocks() as app:\n",
        "    gr.Markdown(\"# Teacher Certificate Exam Searching Engine\")\n",
        "    gr.Markdown(\"## ❄️ [1] Search Data\")\n",
        "\n",
        "    # Row for checkboxes\n",
        "    with gr.Row():\n",
        "        search_by_year = gr.Checkbox(label=\"Search by YEAR\", value=False)\n",
        "        search_by_keywords = gr.Checkbox(label=\"Search Years by Keywords\", value=False)\n",
        "\n",
        "    # Row for search query, button and output\n",
        "    with gr.Row():\n",
        "        search_input = gr.Textbox(label=\"Search Query: e.g., 2024 (by YEAR) or tapping (by Keywords)\",\n",
        "                                  placeholder=\"Enter year or keywords separated by commas\")\n",
        "        search_button = gr.Button(\"Click to Search\")\n",
        "        search_output = gr.Text(label=\"Results (file names)\")\n",
        "\n",
        "    # Define actions\n",
        "    search_button.click(fn=search_years, inputs=[search_by_year, search_by_keywords, search_input], outputs=search_output)\n",
        "\n",
        "    gr.Markdown(\"## ❄️ [2] Display a Specific Exam Question Requested\")\n",
        "    year_input = gr.Textbox(label=\"Type a file name among the result items: e.g., Year_item_part(a,b)\", placeholder=\"Enter Year like '2024_01'\")\n",
        "    image_output = gr.HTML()\n",
        "\n",
        "    year_input.change(fn=get_image_html, inputs=year_input, outputs=image_output)\n",
        "\n",
        "# Launch the app with sharing options\n",
        "app.launch(share=True, debug=True)\n"
      ],
      "metadata": {
        "id": "HVu-UMmaoqFj"
      },
      "execution_count": null,
      "outputs": []
    },
    {
      "cell_type": "code",
      "source": [
        "import gradio as gr\n",
        "import pandas as pd\n",
        "\n",
        "# Load the DataFrame\n",
        "url = \"https://raw.githubusercontent.com/MK316/TExams/main/TExams.csv\"\n",
        "df = pd.read_csv(url, encoding='utf-8-sig')\n",
        "\n",
        "# Function to search years based on the selected mode\n",
        "def search_years(search_by_year, search_by_keywords, query):\n",
        "    if search_by_year and not search_by_keywords:\n",
        "        # Search by matching the first four characters of the 'YEAR' column\n",
        "        matches = df[df['YEAR'].str.startswith(query[:4])]\n",
        "        if matches.empty:\n",
        "            return \"No results found for your query.\"\n",
        "        return \", \".join(matches['YEAR'].tolist())  # Return a string of matched years\n",
        "    elif search_by_keywords and not search_by_year:\n",
        "        # Original keyword search logic\n",
        "        keyword_list = [keyword.strip() for keyword in query.split(',')]\n",
        "        matches = df[df['KEYWORDS'].apply(lambda x: any(keyword in x for keyword in keyword_list))]\n",
        "        if matches.empty:\n",
        "            return \"No results found for your query.\"\n",
        "        return \", \".join(matches['YEAR'].tolist())  # Return a string of matched years\n",
        "    else:\n",
        "        return \"Please select exactly one search mode.\"\n",
        "\n",
        "# Function to return an HTML image tag with the image URL\n",
        "def get_image_html(year):\n",
        "    match = df[df['YEAR'] == year]\n",
        "    if not match.empty:\n",
        "        image_url = match.iloc[0]['LINK']\n",
        "        return f\"<img src='{image_url}' width='800'/>\"\n",
        "    else:\n",
        "        return \"No image found for this year.\"\n",
        "\n",
        "# Create Gradio Blocks interface\n",
        "with gr.Blocks() as app:\n",
        "    gr.Markdown(\"# Teacher Certificate Exam Searching Engine\")\n",
        "    gr.Markdown(\"## ❄️ [1] Search Data\")\n",
        "\n",
        "    # Row for checkboxes\n",
        "    with gr.Row():\n",
        "        search_by_year = gr.Checkbox(label=\"Search by YEAR\", value=False)\n",
        "        search_by_keywords = gr.Checkbox(label=\"Search Years by Keywords\", value=False)\n",
        "\n",
        "    # Row for search query, button and output\n",
        "    with gr.Row():\n",
        "        search_input = gr.Textbox(label=\"Search Query: e.g., 2024 (by YEAR) or tapping (by Keywords)\",\n",
        "                                  placeholder=\"Enter year or keywords separated by commas\")\n",
        "        search_button = gr.Button(\"Click to Search\")\n",
        "        search_output = gr.Text(label=\"Results (file names)\")\n",
        "\n",
        "    # Define actions\n",
        "    search_button.click(fn=search_years, inputs=[search_by_year, search_by_keywords, search_input], outputs=search_output)\n",
        "\n",
        "    gr.Markdown(\"## ❄️ [2] Display a Specific Exam Question Requested\")\n",
        "    with gr.Row():\n",
        "        year_input = gr.Textbox(label=\"Type a file name among the result items: e.g., Year_item_part(a,b)\", placeholder=\"Enter Year like '2024_01'\")\n",
        "        submit_button = gr.Button(\"Submit\")  # Added submit button\n",
        "    image_output = gr.HTML()\n",
        "\n",
        "    # Define action for the submit button\n",
        "    submit_button.click(fn=get_image_html, inputs=year_input, outputs=image_output)  # Use the button to trigger the display function\n",
        "\n",
        "# Launch the app with sharing options\n",
        "app.launch(share=True, debug=True)\n"
      ],
      "metadata": {
        "id": "txJIO9DRZmTW"
      },
      "execution_count": null,
      "outputs": []
    }
  ]
}