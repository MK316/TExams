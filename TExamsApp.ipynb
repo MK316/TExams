{
  "nbformat": 4,
  "nbformat_minor": 0,
  "metadata": {
    "colab": {
      "private_outputs": true,
      "provenance": [],
      "authorship_tag": "ABX9TyMtulakWedGqNyluRZ483CN",
      "include_colab_link": true
    },
    "kernelspec": {
      "name": "python3",
      "display_name": "Python 3"
    },
    "language_info": {
      "name": "python"
    }
  },
  "cells": [
    {
      "cell_type": "markdown",
      "metadata": {
        "id": "view-in-github",
        "colab_type": "text"
      },
      "source": [
        "<a href=\"https://colab.research.google.com/github/MK316/TExams/blob/main/TExamsApp.ipynb\" target=\"_parent\"><img src=\"https://colab.research.google.com/assets/colab-badge.svg\" alt=\"Open In Colab\"/></a>"
      ]
    },
    {
      "cell_type": "markdown",
      "source": [
        "# Teacher Exam: searching with keywords and displaying question items"
      ],
      "metadata": {
        "id": "vdnsB89CP5iw"
      }
    },
    {
      "cell_type": "code",
      "execution_count": null,
      "metadata": {
        "id": "gUTfay64P4mY"
      },
      "outputs": [],
      "source": [
        "import pandas as pd\n",
        "from IPython.display import Image, display\n",
        "\n",
        "url = \"https://raw.githubusercontent.com/MK316/TExams/main/TExams.csv\"\n",
        "df = pd.read_csv(url, encoding='utf-8')\n",
        "df.head()"
      ]
    },
    {
      "cell_type": "markdown",
      "source": [
        "## Sample"
      ],
      "metadata": {
        "id": "EqvqVd8gellQ"
      }
    },
    {
      "cell_type": "code",
      "source": [
        "from IPython.display import display, Image\n",
        "\n",
        "# Adjusted function to display an image by DataFrame index for URLs\n",
        "def display_image_by_url(df, index):\n",
        "    if index < len(df):\n",
        "        image_url = df.loc[index, 'LINK']  # Replace 'YourColumnNameHere' with the actual column name\n",
        "        display(Image(url=image_url))\n",
        "    else:\n",
        "        print(\"Index out of range.\")\n",
        "\n",
        "# Example usage\n",
        "# Ensure df is your DataFrame and it has a column with URLs pointing to the images\n",
        "# Replace 'YourColumnNameHere' with the actual column name containing the image URLs\n",
        "display_image_by_url(df, 0)\n"
      ],
      "metadata": {
        "id": "Rarmh5JBQIRl"
      },
      "execution_count": null,
      "outputs": []
    },
    {
      "cell_type": "markdown",
      "source": [
        "# Gradio [1]"
      ],
      "metadata": {
        "id": "YBpc3I85RZ_F"
      }
    },
    {
      "cell_type": "code",
      "source": [
        "%%capture\n",
        "!pip install gradio"
      ],
      "metadata": {
        "id": "3Rw4oto0RtwL"
      },
      "execution_count": null,
      "outputs": []
    },
    {
      "cell_type": "code",
      "source": [
        "import gradio as gr\n",
        "\n",
        "# Sample DataFrame for demonstration purposes\n",
        "# Replace this with your actual DataFrame\n",
        "# data = {\n",
        "#     'Year': ['2024_01'],\n",
        "#     'ImageURL': ['https://github.com/MK316/TExams/raw/main/images/2024_01.png']  # Replace with your actual URL\n",
        "# }\n",
        "# df = pd.DataFrame(data)\n",
        "\n",
        "url = \"https://raw.githubusercontent.com/MK316/TExams/main/TExams.csv\"\n",
        "df = pd.read_csv(url, encoding='utf-8')\n",
        "\n",
        "# Function to return an HTML image tag with the image URL\n",
        "def get_image_html(year):\n",
        "    # Filter the DataFrame for the given year\n",
        "    match = df[df['YEAR'] == year]\n",
        "    if not match.empty:\n",
        "        # Get the first matching URL\n",
        "        image_url = match.iloc[0]['LINK']\n",
        "        # Return an HTML image tag with the URL\n",
        "        return f\"<img src='{image_url}' width='800'/>\"  # You can adjust the width as needed\n",
        "    else:\n",
        "        # Return a message if no match is found\n",
        "        return \"No image found for this year.\"\n",
        "\n",
        "# Set up the Gradio interface\n",
        "iface = gr.Interface(fn=get_image_html,\n",
        "                     inputs=gr.Textbox(placeholder=\"Enter Year like '2024_01'\"),\n",
        "                     outputs='html',\n",
        "                     title=\"Image Display for a Given Year\",\n",
        "                     description=\"Type a year and submit to display the corresponding image.\")\n",
        "\n",
        "\n",
        "# Launch the app\n",
        "iface.launch()\n"
      ],
      "metadata": {
        "id": "wZYKj_dJUgl2"
      },
      "execution_count": null,
      "outputs": []
    },
    {
      "cell_type": "markdown",
      "source": [
        "# Gradio [2] (final version)"
      ],
      "metadata": {
        "id": "Rt39f9yCYJPr"
      }
    },
    {
      "cell_type": "code",
      "source": [
        "import gradio as gr\n",
        "\n",
        "url = \"https://raw.githubusercontent.com/MK316/TExams/main/TExams.csv\"\n",
        "df = pd.read_csv(url, encoding='utf-8')\n",
        "\n",
        "# Function to return an HTML image tag with the image URL\n",
        "def get_image_html(year):\n",
        "    # Filter the DataFrame for the given year\n",
        "    match = df[df['YEAR'] == year]\n",
        "    if not match.empty:\n",
        "        # Get the first matching URL\n",
        "        image_url = match.iloc[0]['LINK']\n",
        "        # Return an HTML image tag with the URL\n",
        "        return f\"<img src='{image_url}' width='800'/>\"  # You can adjust the width as needed\n",
        "    else:\n",
        "        # Return a message if no match is found\n",
        "        return \"No image found for this year.\"\n",
        "\n",
        "# Use Gradio's Blocks to create a custom layout with a submit button\n",
        "def show_image(year, output_component):\n",
        "    output_component.update(get_image_html(year))\n",
        "\n",
        "with gr.Blocks() as app:\n",
        "    gr.Markdown(\"# 🐳 Teacher Certificate Exam: Display Phonology Questions for a Given Year\")\n",
        "    gr.Markdown(\"Type a year and submit to display the corresponding image.\")\n",
        "    with gr.Row():\n",
        "        textbox = gr.Textbox(placeholder=\"Enter Year like '2024_01' or '2024_02a' if the question is split\")\n",
        "        submit_button = gr.Button(\"Show the question\")\n",
        "    output = gr.HTML()  # Define the output component outside of the Row\n",
        "    submit_button.click(fn=get_image_html, inputs=textbox, outputs=output)\n",
        "\n",
        "\n",
        "# Launch the app\n",
        "app.launch(debug=True)\n"
      ],
      "metadata": {
        "id": "xxxSQqzNWGuP"
      },
      "execution_count": null,
      "outputs": []
    },
    {
      "cell_type": "code",
      "source": [],
      "metadata": {
        "id": "Hu2NjgeCWcs4"
      },
      "execution_count": null,
      "outputs": []
    },
    {
      "cell_type": "markdown",
      "source": [
        "# Gradio [3] Searching with keywords added"
      ],
      "metadata": {
        "id": "Ml_3h2ORaqiQ"
      }
    },
    {
      "cell_type": "code",
      "source": [
        "import pandas as pd\n",
        "\n",
        "# Example DataFrame for demonstration purposes\n",
        "\n",
        "url = \"https://raw.githubusercontent.com/MK316/TExams/main/TExams.csv\"\n",
        "df = pd.read_csv(url, encoding='utf-8')\n",
        "\n",
        "# Function to search for YEARS by matching keywords\n",
        "def search_year_by_keyword(df, keyword):\n",
        "    # Create a mask for whether the keyword appears in the 'KEYWORDS' column\n",
        "    mask = df['KEYWORDS'].apply(lambda x: keyword.lower() in x.lower().split(','))\n",
        "    # Filter the DataFrame based on the mask and return the 'YEAR' column\n",
        "    return df[mask]['YEAR'].tolist()\n",
        "\n",
        "# Example usage:\n",
        "keyword_to_search = input('Type a keyword: ')  # Replace this with the user's input keyword\n",
        "matching_years = search_year_by_keyword(df, keyword_to_search)\n",
        "\n",
        "print(f\"Years matching the keyword '{keyword_to_search}': {matching_years}\")\n"
      ],
      "metadata": {
        "id": "1vfJtGl2avwk"
      },
      "execution_count": null,
      "outputs": []
    },
    {
      "cell_type": "markdown",
      "source": [
        "# Gradio"
      ],
      "metadata": {
        "id": "tyvdYE7obbda"
      }
    },
    {
      "cell_type": "code",
      "source": [
        "import gradio as gr\n",
        "import pandas as pd\n",
        "\n",
        "url = \"https://raw.githubusercontent.com/MK316/TExams/main/TExams.csv\"\n",
        "df = pd.read_csv(url, encoding='utf-8')\n",
        "\n",
        "# Function to search for years by matching keywords\n",
        "\n",
        "def search_years_by_keywords(keywords):\n",
        "    # Split the input keywords by commas and strip whitespace\n",
        "    keyword_list = [keyword.strip() for keyword in keywords.split(',')]\n",
        "    # Filter the DataFrame rows where any of the keywords matches\n",
        "    matches = df[df['KEYWORDS'].apply(lambda x: any(keyword in x.split(', ') for keyword in keyword_list))]\n",
        "    # Return the matched years as a list\n",
        "    return matches['YEAR'].tolist()\n",
        "\n",
        "# Create Gradio interface\n",
        "iface = gr.Interface(\n",
        "    fn=search_years_by_keywords,\n",
        "    inputs=gr.Textbox(placeholder=\"Enter keywords separated by commas\"),\n",
        "    outputs=gr.Text(label=\"Matching Years\"),\n",
        "    title=\"Search Years by Keywords\",\n",
        "    description=\"Type keywords to search for years. Separate keywords with commas.\"\n",
        ")\n",
        "\n",
        "# Launch the app with share=True to get a shareable link\n",
        "iface.launch(share=True)\n"
      ],
      "metadata": {
        "id": "iVsbhmPLbbIl"
      },
      "execution_count": null,
      "outputs": []
    },
    {
      "cell_type": "markdown",
      "source": [
        "# Combining the two applications"
      ],
      "metadata": {
        "id": "qNvO3iqOclQA"
      }
    },
    {
      "cell_type": "code",
      "source": [
        "import gradio as gr\n",
        "import pandas as pd\n",
        "\n",
        "# Load the DataFrame\n",
        "url = \"https://raw.githubusercontent.com/MK316/TExams/main/TExams.csv\"\n",
        "df = pd.read_csv(url, encoding='utf-8')\n",
        "\n",
        "# Function to search for years by matching keywords\n",
        "def search_years_by_keywords(keywords):\n",
        "    keyword_list = [keyword.strip() for keyword in keywords.split(',')]\n",
        "    matches = df[df['KEYWORDS'].apply(lambda x: any(keyword in x.split(', ') for keyword in keyword_list))]\n",
        "    return \", \".join(matches['YEAR'].tolist())  # Return a string of matched years\n",
        "\n",
        "# Function to return an HTML image tag with the image URL\n",
        "def get_image_html(year):\n",
        "    match = df[df['YEAR'] == year]\n",
        "    if not match.empty:\n",
        "        image_url = match.iloc[0]['LINK']\n",
        "        return f\"<img src='{image_url}' width='800'/>\"\n",
        "    else:\n",
        "        return \"No image found for this year.\"\n",
        "\n",
        "# Create Gradio Blocks interface\n",
        "with gr.Blocks() as app:\n",
        "    gr.Markdown(\"# Teacher Certificate Exam Helper\")\n",
        "    gr.Markdown(\"## ❄️ [1] Search Years by Keywords\")\n",
        "    keyword_input = gr.Textbox(label = \"Keyword\", placeholder=\"Enter keywords separated by commas\")\n",
        "    keyword_output = gr.Text(label=\"Matching Years\")\n",
        "    gr.Markdown(\"## ❄️ [2] Display Phonology Questions for a Given Year\")\n",
        "    year_input = gr.Textbox(label=\"Year information: e.g., Year_item_part(a,b)\", placeholder=\"Enter Year like '2024_01'\")\n",
        "    image_output = gr.HTML()\n",
        "\n",
        "    # Define actions\n",
        "    keyword_input.change(fn=search_years_by_keywords, inputs=keyword_input, outputs=keyword_output)\n",
        "    year_input.change(fn=get_image_html, inputs=year_input, outputs=image_output)\n",
        "\n",
        "# Launch the app with sharing options\n",
        "app.launch(share=True)\n"
      ],
      "metadata": {
        "id": "1sP5cOEIcnrE"
      },
      "execution_count": null,
      "outputs": []
    }
  ]
}