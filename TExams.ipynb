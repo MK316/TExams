{
  "nbformat": 4,
  "nbformat_minor": 0,
  "metadata": {
    "colab": {
      "private_outputs": true,
      "provenance": [],
      "authorship_tag": "ABX9TyOUrunz6pVFmeHhhhH/IvIT",
      "include_colab_link": true
    },
    "kernelspec": {
      "name": "python3",
      "display_name": "Python 3"
    },
    "language_info": {
      "name": "python"
    }
  },
  "cells": [
    {
      "cell_type": "markdown",
      "metadata": {
        "id": "view-in-github",
        "colab_type": "text"
      },
      "source": [
        "<a href=\"https://colab.research.google.com/github/MK316/TExams/blob/main/TExams.ipynb\" target=\"_parent\"><img src=\"https://colab.research.google.com/assets/colab-badge.svg\" alt=\"Open In Colab\"/></a>"
      ]
    },
    {
      "cell_type": "markdown",
      "source": [
        "# 2024 TE Phonetics/Phonology questions\n"
      ],
      "metadata": {
        "id": "pxcWQVC0mpES"
      }
    },
    {
      "cell_type": "code",
      "execution_count": null,
      "metadata": {
        "id": "TDlz4YH-lv3Z",
        "cellView": "form"
      },
      "outputs": [],
      "source": [
        "#@markdown Install packages\n",
        "%%capture\n",
        "!pip install gtts ipywidgets\n",
        "from gtts import gTTS\n",
        "from IPython.display import Audio, display\n",
        "import ipywidgets as widgets\n",
        "import pandas as pd"
      ]
    },
    {
      "cell_type": "markdown",
      "source": [
        "[database](https://raw.githubusercontent.com/MK316/TExams/main/texts/TExams.csv)"
      ],
      "metadata": {
        "id": "LLghRQh75WrD"
      }
    },
    {
      "cell_type": "code",
      "source": [
        "#@markdown Read the question info file\n",
        "# Example: Load DataFrame\n",
        "df = pd.read_csv('https://raw.githubusercontent.com/MK316/TExams/main/texts/TExams.csv')"
      ],
      "metadata": {
        "cellView": "form",
        "id": "mku7fzh4wzMM"
      },
      "execution_count": null,
      "outputs": []
    },
    {
      "cell_type": "code",
      "source": [
        "#@markdown Say the question for me:\n",
        "year_widget = widgets.Dropdown(\n",
        "    options=df['Year'].unique().tolist(),\n",
        "    description='Year:',\n",
        "    disabled=False,\n",
        ")\n",
        "\n",
        "item_widget = widgets.Dropdown(\n",
        "    options=df['Item'].unique().tolist(),\n",
        "    description='Item:',\n",
        "    disabled=False,\n",
        ")\n",
        "\n",
        "def generate_speech(year, item):\n",
        "    selected_data = df[(df['Year'] == year) & (df['Item'] == item)]\n",
        "    if not selected_data.empty:\n",
        "        text_to_read = selected_data.iloc[0]['Instruction'] + \" \" + selected_data.iloc[0]['Text'] + \" \" + selected_data.iloc[0]['Question']\n",
        "        tts = gTTS(text=text_to_read, lang='en')\n",
        "        tts.save('/content/speech.mp3')\n",
        "        display(Audio('/content/speech.mp3', autoplay=True))\n",
        "    else:\n",
        "        print(\"No data found for the selected Year and Item.\")\n",
        "\n",
        "out = widgets.interactive_output(generate_speech, {'year': year_widget, 'item': item_widget})\n",
        "\n",
        "display(year_widget, item_widget, out)"
      ],
      "metadata": {
        "cellView": "form",
        "id": "1iTsjyuL6ESP"
      },
      "execution_count": null,
      "outputs": []
    },
    {
      "cell_type": "markdown",
      "source": [
        "# Exam questions"
      ],
      "metadata": {
        "id": "T5jN-O5V8qA1"
      }
    },
    {
      "cell_type": "code",
      "source": [
        "from IPython.display import Image, display\n",
        "\n",
        "item = \"2024_3a\" #@param = [\"2024_1\",\"2024_2a\",\"2024_2b\",\"2024_3a\",\"2024_3b\"]\n",
        "filename = item + \".png\"\n",
        "\n",
        "# Replace with the URL to your image\n",
        "image_url = \"https://raw.githubusercontent.com/MK316/TExams/main/images/\"\n",
        "url = image_url + filename\n",
        "\n",
        "# Display the image using the 'url' variable\n",
        "display(Image(url=url))\n"
      ],
      "metadata": {
        "cellView": "form",
        "id": "_-JeJH3MDLqC"
      },
      "execution_count": null,
      "outputs": []
    },
    {
      "cell_type": "code",
      "source": [
        "from IPython.display import Image, display\n",
        "\n",
        "item = \"2024_3b\" #@param = [\"2024_1\",\"2024_2a\",\"2024_2b\",\"2024_3a\",\"2024_3b\"]\n",
        "filename = item + \".png\"\n",
        "\n",
        "# Replace with the URL to your image\n",
        "image_url = \"https://raw.githubusercontent.com/MK316/TExams/main/images/\"\n",
        "url = image_url + filename\n",
        "\n",
        "# Display the image using the 'url' variable\n",
        "display(Image(url=url))\n"
      ],
      "metadata": {
        "cellView": "form",
        "id": "aguaG01EFIcp"
      },
      "execution_count": null,
      "outputs": []
    }
  ]
}